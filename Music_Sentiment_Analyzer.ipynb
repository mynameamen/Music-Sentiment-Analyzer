{
  "nbformat": 4,
  "nbformat_minor": 0,
  "metadata": {
    "colab": {
      "provenance": []
    },
    "kernelspec": {
      "name": "python3",
      "display_name": "Python 3"
    },
    "language_info": {
      "name": "python"
    }
  },
  "cells": [
    {
      "cell_type": "markdown",
      "source": [
        "#Package Installation and Imports"
      ],
      "metadata": {
        "id": "VSRdmFgoK_9r"
      }
    },
    {
      "cell_type": "code",
      "source": [
        "!pip install essentia"
      ],
      "metadata": {
        "colab": {
          "base_uri": "https://localhost:8080/"
        },
        "id": "_EI3c8KtdoMw",
        "outputId": "fdca5cd8-1873-4354-c67f-c73655f7a499"
      },
      "execution_count": 1,
      "outputs": [
        {
          "output_type": "stream",
          "name": "stdout",
          "text": [
            "Collecting essentia\n",
            "  Downloading essentia-2.1b6.dev1110-cp310-cp310-manylinux_2_17_x86_64.manylinux2014_x86_64.whl (13.7 MB)\n",
            "\u001b[2K     \u001b[90m━━━━━━━━━━━━━━━━━━━━━━━━━━━━━━━━━━━━━━━━\u001b[0m \u001b[32m13.7/13.7 MB\u001b[0m \u001b[31m2.0 MB/s\u001b[0m eta \u001b[36m0:00:00\u001b[0m\n",
            "\u001b[?25hRequirement already satisfied: numpy>=1.8.2 in /usr/local/lib/python3.10/dist-packages (from essentia) (1.23.5)\n",
            "Requirement already satisfied: six in /usr/local/lib/python3.10/dist-packages (from essentia) (1.16.0)\n",
            "Requirement already satisfied: pyyaml in /usr/local/lib/python3.10/dist-packages (from essentia) (6.0.1)\n",
            "Installing collected packages: essentia\n",
            "Successfully installed essentia-2.1b6.dev1110\n"
          ]
        }
      ]
    },
    {
      "cell_type": "code",
      "source": [
        "!pip install scikit-learn==1.3.1"
      ],
      "metadata": {
        "colab": {
          "base_uri": "https://localhost:8080/"
        },
        "id": "lrrDQyYwPq0s",
        "outputId": "0ddfb686-ab02-41e3-f137-dbeec9602a73"
      },
      "execution_count": 2,
      "outputs": [
        {
          "output_type": "stream",
          "name": "stdout",
          "text": [
            "Collecting scikit-learn==1.3.1\n",
            "  Downloading scikit_learn-1.3.1-cp310-cp310-manylinux_2_17_x86_64.manylinux2014_x86_64.whl (10.8 MB)\n",
            "\u001b[2K     \u001b[90m━━━━━━━━━━━━━━━━━━━━━━━━━━━━━━━━━━━━━━━━\u001b[0m \u001b[32m10.8/10.8 MB\u001b[0m \u001b[31m21.0 MB/s\u001b[0m eta \u001b[36m0:00:00\u001b[0m\n",
            "\u001b[?25hRequirement already satisfied: numpy<2.0,>=1.17.3 in /usr/local/lib/python3.10/dist-packages (from scikit-learn==1.3.1) (1.23.5)\n",
            "Requirement already satisfied: scipy>=1.5.0 in /usr/local/lib/python3.10/dist-packages (from scikit-learn==1.3.1) (1.11.4)\n",
            "Requirement already satisfied: joblib>=1.1.1 in /usr/local/lib/python3.10/dist-packages (from scikit-learn==1.3.1) (1.3.2)\n",
            "Requirement already satisfied: threadpoolctl>=2.0.0 in /usr/local/lib/python3.10/dist-packages (from scikit-learn==1.3.1) (3.2.0)\n",
            "Installing collected packages: scikit-learn\n",
            "  Attempting uninstall: scikit-learn\n",
            "    Found existing installation: scikit-learn 1.2.2\n",
            "    Uninstalling scikit-learn-1.2.2:\n",
            "      Successfully uninstalled scikit-learn-1.2.2\n",
            "Successfully installed scikit-learn-1.3.1\n"
          ]
        }
      ]
    },
    {
      "cell_type": "code",
      "execution_count": 3,
      "metadata": {
        "id": "hAFHaSibK1Jx"
      },
      "outputs": [],
      "source": [
        "import essentia\n",
        "import essentia.standard as es\n",
        "import essentia.streaming\n",
        "import librosa\n",
        "import json\n",
        "import soundfile as sf\n",
        "\n",
        "import numpy as np\n",
        "import pandas as pd\n",
        "import csv\n",
        "from google.colab import drive\n",
        "import joblib\n",
        "from sklearn.preprocessing import MinMaxScaler\n",
        "\n",
        "from sklearn.model_selection import train_test_split\n",
        "from sklearn import svm\n",
        "from sklearn.metrics import classification_report, accuracy_score, _scorer"
      ]
    },
    {
      "cell_type": "markdown",
      "source": [
        "# Music Sentiment Analysis"
      ],
      "metadata": {
        "id": "QjcOyep7LypV"
      }
    },
    {
      "cell_type": "code",
      "source": [
        "from google.colab import files\n",
        "uploaded = files.upload()\n",
        "filename = next(iter(uploaded))"
      ],
      "metadata": {
        "colab": {
          "base_uri": "https://localhost:8080/",
          "height": 71
        },
        "id": "k79s92aYNA26",
        "outputId": "e275cc52-e4a0-4f0c-829a-e50fbfbc9840"
      },
      "execution_count": 24,
      "outputs": [
        {
          "output_type": "display_data",
          "data": {
            "text/plain": [
              "<IPython.core.display.HTML object>"
            ],
            "text/html": [
              "\n",
              "     <input type=\"file\" id=\"files-e9462a86-aec6-4114-8f41-112df442e5ce\" name=\"files[]\" multiple disabled\n",
              "        style=\"border:none\" />\n",
              "     <output id=\"result-e9462a86-aec6-4114-8f41-112df442e5ce\">\n",
              "      Upload widget is only available when the cell has been executed in the\n",
              "      current browser session. Please rerun this cell to enable.\n",
              "      </output>\n",
              "      <script>// Copyright 2017 Google LLC\n",
              "//\n",
              "// Licensed under the Apache License, Version 2.0 (the \"License\");\n",
              "// you may not use this file except in compliance with the License.\n",
              "// You may obtain a copy of the License at\n",
              "//\n",
              "//      http://www.apache.org/licenses/LICENSE-2.0\n",
              "//\n",
              "// Unless required by applicable law or agreed to in writing, software\n",
              "// distributed under the License is distributed on an \"AS IS\" BASIS,\n",
              "// WITHOUT WARRANTIES OR CONDITIONS OF ANY KIND, either express or implied.\n",
              "// See the License for the specific language governing permissions and\n",
              "// limitations under the License.\n",
              "\n",
              "/**\n",
              " * @fileoverview Helpers for google.colab Python module.\n",
              " */\n",
              "(function(scope) {\n",
              "function span(text, styleAttributes = {}) {\n",
              "  const element = document.createElement('span');\n",
              "  element.textContent = text;\n",
              "  for (const key of Object.keys(styleAttributes)) {\n",
              "    element.style[key] = styleAttributes[key];\n",
              "  }\n",
              "  return element;\n",
              "}\n",
              "\n",
              "// Max number of bytes which will be uploaded at a time.\n",
              "const MAX_PAYLOAD_SIZE = 100 * 1024;\n",
              "\n",
              "function _uploadFiles(inputId, outputId) {\n",
              "  const steps = uploadFilesStep(inputId, outputId);\n",
              "  const outputElement = document.getElementById(outputId);\n",
              "  // Cache steps on the outputElement to make it available for the next call\n",
              "  // to uploadFilesContinue from Python.\n",
              "  outputElement.steps = steps;\n",
              "\n",
              "  return _uploadFilesContinue(outputId);\n",
              "}\n",
              "\n",
              "// This is roughly an async generator (not supported in the browser yet),\n",
              "// where there are multiple asynchronous steps and the Python side is going\n",
              "// to poll for completion of each step.\n",
              "// This uses a Promise to block the python side on completion of each step,\n",
              "// then passes the result of the previous step as the input to the next step.\n",
              "function _uploadFilesContinue(outputId) {\n",
              "  const outputElement = document.getElementById(outputId);\n",
              "  const steps = outputElement.steps;\n",
              "\n",
              "  const next = steps.next(outputElement.lastPromiseValue);\n",
              "  return Promise.resolve(next.value.promise).then((value) => {\n",
              "    // Cache the last promise value to make it available to the next\n",
              "    // step of the generator.\n",
              "    outputElement.lastPromiseValue = value;\n",
              "    return next.value.response;\n",
              "  });\n",
              "}\n",
              "\n",
              "/**\n",
              " * Generator function which is called between each async step of the upload\n",
              " * process.\n",
              " * @param {string} inputId Element ID of the input file picker element.\n",
              " * @param {string} outputId Element ID of the output display.\n",
              " * @return {!Iterable<!Object>} Iterable of next steps.\n",
              " */\n",
              "function* uploadFilesStep(inputId, outputId) {\n",
              "  const inputElement = document.getElementById(inputId);\n",
              "  inputElement.disabled = false;\n",
              "\n",
              "  const outputElement = document.getElementById(outputId);\n",
              "  outputElement.innerHTML = '';\n",
              "\n",
              "  const pickedPromise = new Promise((resolve) => {\n",
              "    inputElement.addEventListener('change', (e) => {\n",
              "      resolve(e.target.files);\n",
              "    });\n",
              "  });\n",
              "\n",
              "  const cancel = document.createElement('button');\n",
              "  inputElement.parentElement.appendChild(cancel);\n",
              "  cancel.textContent = 'Cancel upload';\n",
              "  const cancelPromise = new Promise((resolve) => {\n",
              "    cancel.onclick = () => {\n",
              "      resolve(null);\n",
              "    };\n",
              "  });\n",
              "\n",
              "  // Wait for the user to pick the files.\n",
              "  const files = yield {\n",
              "    promise: Promise.race([pickedPromise, cancelPromise]),\n",
              "    response: {\n",
              "      action: 'starting',\n",
              "    }\n",
              "  };\n",
              "\n",
              "  cancel.remove();\n",
              "\n",
              "  // Disable the input element since further picks are not allowed.\n",
              "  inputElement.disabled = true;\n",
              "\n",
              "  if (!files) {\n",
              "    return {\n",
              "      response: {\n",
              "        action: 'complete',\n",
              "      }\n",
              "    };\n",
              "  }\n",
              "\n",
              "  for (const file of files) {\n",
              "    const li = document.createElement('li');\n",
              "    li.append(span(file.name, {fontWeight: 'bold'}));\n",
              "    li.append(span(\n",
              "        `(${file.type || 'n/a'}) - ${file.size} bytes, ` +\n",
              "        `last modified: ${\n",
              "            file.lastModifiedDate ? file.lastModifiedDate.toLocaleDateString() :\n",
              "                                    'n/a'} - `));\n",
              "    const percent = span('0% done');\n",
              "    li.appendChild(percent);\n",
              "\n",
              "    outputElement.appendChild(li);\n",
              "\n",
              "    const fileDataPromise = new Promise((resolve) => {\n",
              "      const reader = new FileReader();\n",
              "      reader.onload = (e) => {\n",
              "        resolve(e.target.result);\n",
              "      };\n",
              "      reader.readAsArrayBuffer(file);\n",
              "    });\n",
              "    // Wait for the data to be ready.\n",
              "    let fileData = yield {\n",
              "      promise: fileDataPromise,\n",
              "      response: {\n",
              "        action: 'continue',\n",
              "      }\n",
              "    };\n",
              "\n",
              "    // Use a chunked sending to avoid message size limits. See b/62115660.\n",
              "    let position = 0;\n",
              "    do {\n",
              "      const length = Math.min(fileData.byteLength - position, MAX_PAYLOAD_SIZE);\n",
              "      const chunk = new Uint8Array(fileData, position, length);\n",
              "      position += length;\n",
              "\n",
              "      const base64 = btoa(String.fromCharCode.apply(null, chunk));\n",
              "      yield {\n",
              "        response: {\n",
              "          action: 'append',\n",
              "          file: file.name,\n",
              "          data: base64,\n",
              "        },\n",
              "      };\n",
              "\n",
              "      let percentDone = fileData.byteLength === 0 ?\n",
              "          100 :\n",
              "          Math.round((position / fileData.byteLength) * 100);\n",
              "      percent.textContent = `${percentDone}% done`;\n",
              "\n",
              "    } while (position < fileData.byteLength);\n",
              "  }\n",
              "\n",
              "  // All done.\n",
              "  yield {\n",
              "    response: {\n",
              "      action: 'complete',\n",
              "    }\n",
              "  };\n",
              "}\n",
              "\n",
              "scope.google = scope.google || {};\n",
              "scope.google.colab = scope.google.colab || {};\n",
              "scope.google.colab._files = {\n",
              "  _uploadFiles,\n",
              "  _uploadFilesContinue,\n",
              "};\n",
              "})(self);\n",
              "</script> "
            ]
          },
          "metadata": {}
        },
        {
          "output_type": "stream",
          "name": "stdout",
          "text": [
            "Saving MT0004988249.mp3 to MT0004988249.mp3\n"
          ]
        }
      ]
    },
    {
      "cell_type": "code",
      "source": [
        "def extractFeatures(audioSignal,sr):\n",
        "  chroma=librosa.feature.chroma_stft(y=audioSignal, sr=sr)\n",
        "  chromafeat = np.concatenate((np.mean(chroma, axis=1), np.std(chroma, axis=1), np.var(chroma, axis=1)))\n",
        "\n",
        "  mfcc = librosa.feature.mfcc(sr=sr, y=audioSignal, n_mfcc=13)\n",
        "  mfccfeat = np.concatenate((np.mean(mfcc, axis=1), np.std(mfcc, axis=1), np.var(mfcc, axis=1)))\n",
        "\n",
        "  rms=librosa.feature.rms(y=audioSignal)\n",
        "  rmsfeat = np.concatenate((np.mean(rms, axis=1), np.std(rms, axis=1), np.var(rms, axis=1)))\n",
        "\n",
        "  zcr=librosa.feature.zero_crossing_rate(audioSignal)\n",
        "  zcrfeat = np.concatenate((np.mean(zcr, axis=1), np.std(zcr, axis=1), np.var(zcr, axis=1)))\n",
        "\n",
        "  onsetEnv = librosa.onset.onset_strength(y=audioSignal, sr=sr)\n",
        "  tempo = librosa.feature.tempo(onset_envelope=onsetEnv, sr=sr)\n",
        "\n",
        "  centroid = librosa.feature.spectral_centroid(y=audioSignal, sr=sr)\n",
        "  centroidfeat = np.concatenate((np.mean(centroid, axis=1), np.std(centroid, axis=1), np.var(centroid, axis=1)))\n",
        "\n",
        "  bandwidth = librosa.feature.spectral_bandwidth(y=audioSignal, sr=sr)\n",
        "  bandwidthfeat = np.concatenate((np.mean(bandwidth, axis=1), np.std(bandwidth, axis=1), np.var(bandwidth, axis=1)))\n",
        "\n",
        "  flatness = librosa.feature.spectral_flatness(y=audioSignal)\n",
        "  flatnessfeat = np.concatenate((np.mean(flatness, axis=1), np.std(flatness, axis=1), np.var(flatness, axis=1)))\n",
        "\n",
        "  rolloff = librosa.feature.spectral_rolloff(y=audioSignal,sr=sr)\n",
        "  rollofffeat = np.concatenate((np.mean(rolloff, axis=1), np.std(rolloff, axis=1), np.var(rolloff, axis=1)))\n",
        "\n",
        "  tonnetz = librosa.feature.tonnetz(y=librosa.effects.harmonic(audioSignal), sr=sr)\n",
        "  tonnetzfeat = np.concatenate((np.mean(tonnetz, axis=1), np.std(tonnetz, axis=1), np.var(tonnetz, axis=1)))\n",
        "\n",
        "  tempogram = librosa.feature.tempogram(y=audioSignal, sr=sr)\n",
        "  tgr = librosa.feature.tempogram_ratio(tg=tempogram, sr=sr)\n",
        "  tgrfeat = np.concatenate((np.mean(tgr, axis=1), np.std(tgr, axis=1), np.var(tgr, axis=1)))\n",
        "\n",
        "  audio= es.MonoLoader(filename='temp.mp3',sampleRate=22050)()\n",
        "  w = es.Windowing(type = 'hann')\n",
        "  spectrum = es.Spectrum()\n",
        "  spect=np.array([])\n",
        "\n",
        "  for frame in es.FrameGenerator(audio, frameSize=1024, hopSize=512, startFromZero=True):\n",
        "      spect=np.concatenate((spect, spectrum(w(frame))))\n",
        "\n",
        "  pitchSalience=es.PitchSalience(sampleRate=22050)(spect)\n",
        "\n",
        "  loudness=es.Loudness()(audio)\n",
        "\n",
        "  danceability=es.Danceability()(audio)[0]\n",
        "\n",
        "  logAttackT=list(es.LogAttackTime(sampleRate=22050)(audio))\n",
        "\n",
        "  features = np.concatenate((chromafeat, mfccfeat, rmsfeat, zcrfeat, tempo, centroidfeat, bandwidthfeat, flatnessfeat, rollofffeat, tonnetzfeat, tgrfeat,  np.array(logAttackT + [pitchSalience,loudness,danceability])))\n",
        "  return features\n"
      ],
      "metadata": {
        "id": "AJ3joBYmTQT6"
      },
      "execution_count": 5,
      "outputs": []
    },
    {
      "cell_type": "code",
      "source": [
        "def SVM1(selfeaturedata):\n",
        "  SVM1 = joblib.load(\"Half_Classifier_Model.pkl\")\n",
        "  prediction=SVM1.predict(np.asarray(selfeaturedata))\n",
        "  return prediction[0]"
      ],
      "metadata": {
        "id": "DPBuVE0hsR2k"
      },
      "execution_count": 6,
      "outputs": []
    },
    {
      "cell_type": "code",
      "source": [
        "def SVM2(selfeaturedata):\n",
        "  SVM2 = joblib.load(\"TopHalf_Classifier_Model.pkl\")\n",
        "  prediction=SVM2.predict(np.asarray(selfeaturedata))\n",
        "  return prediction[0]"
      ],
      "metadata": {
        "id": "mKC5LPTnuX8J"
      },
      "execution_count": 20,
      "outputs": []
    },
    {
      "cell_type": "code",
      "source": [
        "def SVM3(selfeaturedata):\n",
        "  SVM3 = joblib.load(\"BottomHalf_Classifier_Model.pkl\")\n",
        "  prediction=SVM3.predict(np.asarray(selfeaturedata))\n",
        "  return prediction[0]"
      ],
      "metadata": {
        "id": "PMSSn3c8qvbo"
      },
      "execution_count": 21,
      "outputs": []
    },
    {
      "cell_type": "code",
      "source": [
        "filename = 'MT0000540286.mp3'"
      ],
      "metadata": {
        "id": "rXn_zH_nQf9L"
      },
      "execution_count": 6,
      "outputs": []
    },
    {
      "cell_type": "code",
      "source": [
        "audio_file = filename\n",
        "y, sr = librosa.load(audio_file,mono=True)\n",
        "if sr != 22050:\n",
        "  y=librosa.resample(y, orig_sr=sr, target_sr=22050)\n",
        "  sr=22050\n",
        "if librosa.get_duration(y=y, sr=sr) > 30:\n",
        "  y=y[0:int(30 * sr)]\n",
        "output_file = f\"temp.mp3\"\n",
        "sf.write(output_file, y, sr)\n",
        "headers=[\"chromaC_mean\", \"chromaC#_mean\", \"chromaD_mean\", \"chromaD#_mean\", \"chromaE_mean\", \"chromaF_mean\", \"chromaF#_mean\", \"chromaG_mean\", \\\n",
        "         \"chromaG#_mean\", \"chromaA_mean\", \"chromaA#_mean\", \"chromaB_mean\", \"chromaC_std\", \"chromaC#_std\", \"chromaD_std\", \"chromaD#_std\", \"chromaE_std\", \\\n",
        "         \"chromaF_std\", \"chromaF#_std\", \"chromaG_std\", \"chromaG#_std\", \"chromaA_std\", \"chromaA#_std\", \"chromaB_std\", \"chromaC_var\", \"chromaC#_var\", \"chromaD_var\", \\\n",
        "         \"chromaD#_var\", \"chromaE_var\", \"chromaF_var\", \"chromaF#_var\", \"chromaG_var\", \"chromaG#_var\", \"chromaA_var\", \"chromaA#_var\", \"chromaB_var\", \"mfcc1_mean\", \\\n",
        "         \"mfcc2_mean\", \"mfcc3_mean\", \"mfcc4_mean\", \"mfcc5_mean\", \"mfcc6_mean\", \"mfcc7_mean\", \"mfcc8_mean\", \"mfcc9_mean\", \"mfcc10_mean\", \"mfcc11_mean\", \"mfcc12_mean\", \\\n",
        "         \"mfcc13_mean\", \"mfcc1_std\", \"mfcc2_std\", \"mfcc3_std\", \"mfcc4_std\", \"mfcc5_std\", \"mfcc6_std\", \"mfcc7_std\", \"mfcc8_std\", \"mfcc9_std\", \"mfcc10_std\", \"mfcc11_std\", \\\n",
        "         \"mfcc12_std\", \"mfcc13_std\", \"mfcc1_var\", \"mfcc2_var\", \"mfcc3_var\", \"mfcc4_var\", \"mfcc5_var\", \"mfcc6_var\", \"mfcc7_var\", \"mfcc8_var\", \"mfcc9_var\", \"mfcc10_var\", \"mfcc11_var\", \\\n",
        "         \"mfcc12_var\", \"mfcc13_var\", \"rms_mean\", \"rms_std\", \"rms_var\", \"zcr_mean\", \"zcr_std\", \"zcr_var\", \"tempo\", \"centroid_mean\", \"centroid_std\", \"centroid_var\", \"bandwidth_mean\", \\\n",
        "         \"bandwidth_std\", \"bandwidth_var\", \"flatness_mean\", \"flatness_std\", \"flatness_var\", \"rolloff_mean\", \"rolloff_std\", \"rolloff_var\", \"tonnetz0_mean\", \"tonnetz1_mean\", \\\n",
        "         \"tonnetz2_mean\", \"tonnetz3_mean\", \"tonnetz4_mean\", \"tonnetz5_mean\", \"tonnetz0_std\", \"tonnetz1_std\", \"tonnetz2_std\", \"tonnetz3_std\", \"tonnetz4_std\", \"tonnetz5_std\", \\\n",
        "         \"tonnetz0_var\", \"tonnetz1_var\", \"tonnetz2_var\", \"tonnetz3_var\", \"tonnetz4_var\", \"tonnetz5_var\", \"tgr0_mean\", \"tgr1_mean\", \"tgr2_mean\", \"tgr3_mean\", \"tgr4_mean\", \"tgr5_mean\",\\\n",
        "         \"tgr6_mean\", \"tgr7_mean\", \"tgr8_mean\", \"tgr9_mean\", \"tgr10_mean\", \"tgr11_mean\", \"tgr12_mean\", \"tgr0_std\", \"tgr1_std\", \"tgr2_std\", \"tgr3_std\", \"tgr4_std\", \"tgr5_std\", \"tgr6_std\",\\\n",
        "         \"tgr7_std\", \"tgr8_std\", \"tgr9_std\", \"tgr10_std\", \"tgr11_std\", \"tgr12_std\", \"tgr0_var\", \"tgr1_var\", \"tgr2_var\", \"tgr3_var\", \"tgr4_var\", \"tgr5_var\", \"tgr6_var\", \"tgr7_var\", \"tgr8_var\", \\\n",
        "         \"tgr9_var\", \"tgr10_var\", \"tgr11_var\", \"tgr12_var\", \"logattacktime\", \"attackstart\", \"attackstop\", \"pitchsalience\", \"loudness\", \"danceability\"]\n",
        "\n",
        "featuredata= np.asarray([list(extractFeatures(y,sr))])\n",
        "featuredata= pd.DataFrame(featuredata, columns=headers)\n",
        "f = open('SelectedHeaders.json')\n",
        "selectedheaders = json.load(f)\n",
        "SVM1predict=SVM1(featuredata[selectedheaders[\"SVM1\"]])\n",
        "if SVM1predict == 1:\n",
        "  SVM2predict=SVM2(featuredata[selectedheaders[\"SVM2\"]])\n",
        "  if SVM2predict == 1:\n",
        "    print('Q1')\n",
        "  elif SVM2predict == 0:\n",
        "    print('Q2')\n",
        "elif SVM1predict == 0:\n",
        "  SVM3predict=SVM3(featuredata[selectedheaders[\"SVM3\"]])\n",
        "  if SVM3predict == 1:\n",
        "    print('Q3')\n",
        "  elif SVM3predict == 0:\n",
        "    print('Q4')\n",
        "\n",
        "\n",
        "\n"
      ],
      "metadata": {
        "colab": {
          "base_uri": "https://localhost:8080/"
        },
        "id": "EUNpW68wNmGc",
        "outputId": "782cee7f-190a-445c-e5bd-ca7f3cf6d739"
      },
      "execution_count": 25,
      "outputs": [
        {
          "output_type": "stream",
          "name": "stdout",
          "text": [
            "Q3\n"
          ]
        }
      ]
    }
  ]
}