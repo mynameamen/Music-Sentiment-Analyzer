{
  "cells": [
    {
      "cell_type": "markdown",
      "metadata": {
        "id": "KT1gCjl9whvf"
      },
      "source": [
        "# Package Installations and Imports"
      ]
    },
    {
      "cell_type": "code",
      "execution_count": 1,
      "metadata": {},
      "outputs": [],
      "source": [
        "import pandas as pd\n",
        "import numpy as np\n",
        "from sklearn.preprocessing import MinMaxScaler\n",
        "from sklearn.model_selection import GridSearchCV\n",
        "from sklearn.pipeline import make_pipeline\n",
        "from sklearn.model_selection import train_test_split\n",
        "from sklearn import svm\n",
        "from sklearn.metrics import classification_report, accuracy_score\n",
        "\n",
        "import joblib\n",
        "import json"
      ]
    },
    {
      "cell_type": "code",
      "execution_count": 2,
      "metadata": {},
      "outputs": [],
      "source": [
        "f = open('SelectedHeaders.json')\n",
        "selectedheaders = json.load(f)"
      ]
    },
    {
      "cell_type": "code",
      "execution_count": 3,
      "metadata": {},
      "outputs": [
        {
          "name": "stdout",
          "output_type": "stream",
          "text": [
            "40\n",
            "50\n",
            "44\n"
          ]
        }
      ],
      "source": [
        "print(len(selectedheaders[\"SVM1\"]))\n",
        "print(len(selectedheaders[\"SVM2\"]))\n",
        "print(len(selectedheaders[\"SVM3\"]))"
      ]
    },
    {
      "cell_type": "markdown",
      "metadata": {},
      "source": [
        "# SVM1 Training (Q1&Q2/Q3&Q4)"
      ]
    },
    {
      "cell_type": "markdown",
      "metadata": {},
      "source": [
        "Train Model with selected features and apply hyperparameter tuning"
      ]
    },
    {
      "cell_type": "code",
      "execution_count": 4,
      "metadata": {
        "colab": {
          "base_uri": "https://localhost:8080/"
        },
        "id": "AqtJaOo2T3Ez",
        "outputId": "16197aaf-345b-4642-c91b-24c004012bf1"
      },
      "outputs": [
        {
          "name": "stdout",
          "output_type": "stream",
          "text": [
            "              precision    recall  f1-score   support\n",
            "\n",
            "           0       0.83      0.88      0.85       114\n",
            "           1       0.87      0.82      0.85       114\n",
            "\n",
            "    accuracy                           0.85       228\n",
            "   macro avg       0.85      0.85      0.85       228\n",
            "weighted avg       0.85      0.85      0.85       228\n",
            "\n",
            "0.8508771929824561\n"
          ]
        }
      ],
      "source": [
        "featuredatatrain=pd.read_csv('Features_half_train.csv')\n",
        "x_train=np.asarray(featuredatatrain[selectedheaders[\"SVM1\"]])\n",
        "y_train=np.asarray(featuredatatrain['sentiment'])\n",
        "featuredatatest=pd.read_csv('Features_half_test.csv')\n",
        "x_test=np.asarray(featuredatatest[selectedheaders[\"SVM1\"]])\n",
        "y_test=np.asarray(featuredatatest['sentiment'])\n",
        "\n",
        "scaler = MinMaxScaler()\n",
        "scaler.fit(x_train)\n",
        "x_test=scaler.transform(x_test)\n",
        "x_train=scaler.transform(x_train)\n",
        "\n",
        "\n",
        "parameters = {'kernel':['linear', 'rbf','poly'], 'C':[0.1,0.3,0.7,1,2,5,10,50,100,1000],'gamma':['auto','scale',1,0.1]}\n",
        "svc = svm.SVC()\n",
        "\n",
        "classifier = GridSearchCV(svc, parameters)\n",
        "classifier.fit(x_train, y_train)\n",
        "predict=classifier.predict(x_test)\n",
        "print(classification_report(y_test,predict))\n",
        "print(accuracy_score(y_test,predict))"
      ]
    },
    {
      "cell_type": "markdown",
      "metadata": {},
      "source": [
        "Best Model Parameters for these features"
      ]
    },
    {
      "cell_type": "code",
      "execution_count": 5,
      "metadata": {},
      "outputs": [
        {
          "name": "stdout",
          "output_type": "stream",
          "text": [
            "              precision    recall  f1-score   support\n",
            "\n",
            "           0       0.83      0.88      0.85       114\n",
            "           1       0.87      0.82      0.85       114\n",
            "\n",
            "    accuracy                           0.85       228\n",
            "   macro avg       0.85      0.85      0.85       228\n",
            "weighted avg       0.85      0.85      0.85       228\n",
            "\n",
            "0.8508771929824561\n"
          ]
        }
      ],
      "source": [
        "featuredatatrain=pd.read_csv('Features_half_train.csv')\n",
        "x_train=np.asarray(featuredatatrain[selectedheaders[\"SVM1\"]])\n",
        "y_train=np.asarray(featuredatatrain['sentiment'])\n",
        "featuredatatest=pd.read_csv('Features_half_test.csv')\n",
        "x_test=np.asarray(featuredatatest[selectedheaders[\"SVM1\"]])\n",
        "y_test=np.asarray(featuredatatest['sentiment'])\n",
        "\n",
        "bestparams=classifier.best_params_\n",
        "bestclassifier = svm.SVC(kernel=bestparams['kernel'], gamma=bestparams['gamma'], C=bestparams['C'])\n",
        "pipeline = make_pipeline(MinMaxScaler(),bestclassifier )\n",
        "\n",
        "pipeline.fit(x_train, y_train)\n",
        "predict=pipeline.predict(x_test)\n",
        "print(classification_report(y_test,predict))\n",
        "print(accuracy_score(y_test,predict))"
      ]
    },
    {
      "cell_type": "markdown",
      "metadata": {},
      "source": [
        "Save Model"
      ]
    },
    {
      "cell_type": "code",
      "execution_count": 6,
      "metadata": {},
      "outputs": [
        {
          "data": {
            "text/plain": [
              "['Half_Classifier_Model.pkl']"
            ]
          },
          "execution_count": 6,
          "metadata": {},
          "output_type": "execute_result"
        }
      ],
      "source": [
        "joblib.dump(pipeline, \"Half_Classifier_Model.pkl\") "
      ]
    },
    {
      "cell_type": "markdown",
      "metadata": {},
      "source": [
        "# SVM2 Training (Q1/Q2)"
      ]
    },
    {
      "cell_type": "markdown",
      "metadata": {},
      "source": [
        "Train Model with selected features and apply hyperparameter tuning"
      ]
    },
    {
      "cell_type": "code",
      "execution_count": 7,
      "metadata": {},
      "outputs": [
        {
          "name": "stdout",
          "output_type": "stream",
          "text": [
            "              precision    recall  f1-score   support\n",
            "\n",
            "           0       0.84      0.91      0.87        57\n",
            "           1       0.90      0.82      0.86        57\n",
            "\n",
            "    accuracy                           0.87       114\n",
            "   macro avg       0.87      0.87      0.87       114\n",
            "weighted avg       0.87      0.87      0.87       114\n",
            "\n",
            "0.868421052631579\n"
          ]
        }
      ],
      "source": [
        "featuredatatrain=pd.read_csv('Features_tophalf_train.csv')\n",
        "x_train=np.asarray(featuredatatrain[selectedheaders[\"SVM2\"]])\n",
        "y_train=np.asarray(featuredatatrain['sentiment'])\n",
        "featuredatatest=pd.read_csv('Features_tophalf_test.csv')\n",
        "x_test=np.asarray(featuredatatest[selectedheaders[\"SVM2\"]])\n",
        "y_test=np.asarray(featuredatatest['sentiment'])\n",
        "\n",
        "scaler = MinMaxScaler()\n",
        "scaler.fit(x_train)\n",
        "x_test=scaler.transform(x_test)\n",
        "x_train=scaler.transform(x_train)\n",
        "\n",
        "parameters = {'kernel':['linear', 'rbf','poly'], 'C':[0.1,0.3,0.7,1,2,5,10,50,100,1000],'gamma':['auto','scale',1,0.1]}\n",
        "svc = svm.SVC()\n",
        "\n",
        "classifier = GridSearchCV(svc, parameters)\n",
        "classifier.fit(x_train, y_train)\n",
        "predict=classifier.predict(x_test)\n",
        "print(classification_report(y_test,predict))\n",
        "print(accuracy_score(y_test,predict))"
      ]
    },
    {
      "cell_type": "markdown",
      "metadata": {},
      "source": [
        "Best Model Parameters for these features"
      ]
    },
    {
      "cell_type": "code",
      "execution_count": 8,
      "metadata": {},
      "outputs": [
        {
          "name": "stdout",
          "output_type": "stream",
          "text": [
            "              precision    recall  f1-score   support\n",
            "\n",
            "           0       0.84      0.91      0.87        57\n",
            "           1       0.90      0.82      0.86        57\n",
            "\n",
            "    accuracy                           0.87       114\n",
            "   macro avg       0.87      0.87      0.87       114\n",
            "weighted avg       0.87      0.87      0.87       114\n",
            "\n",
            "0.868421052631579\n"
          ]
        }
      ],
      "source": [
        "featuredatatrain=pd.read_csv('Features_tophalf_train.csv')\n",
        "x_train=np.asarray(featuredatatrain[selectedheaders[\"SVM2\"]])\n",
        "y_train=np.asarray(featuredatatrain['sentiment'])\n",
        "featuredatatest=pd.read_csv('Features_tophalf_test.csv')\n",
        "x_test=np.asarray(featuredatatest[selectedheaders[\"SVM2\"]])\n",
        "y_test=np.asarray(featuredatatest['sentiment'])\n",
        "\n",
        "bestparams=classifier.best_params_\n",
        "bestclassifier = svm.SVC(kernel=bestparams['kernel'], gamma=bestparams['gamma'], C=bestparams['C'])\n",
        "pipeline = make_pipeline(MinMaxScaler(),bestclassifier )\n",
        "\n",
        "pipeline.fit(x_train, y_train)\n",
        "predict=pipeline.predict(x_test)\n",
        "print(classification_report(y_test,predict))\n",
        "print(accuracy_score(y_test,predict))"
      ]
    },
    {
      "cell_type": "markdown",
      "metadata": {},
      "source": [
        "Save Model"
      ]
    },
    {
      "cell_type": "code",
      "execution_count": 9,
      "metadata": {},
      "outputs": [
        {
          "data": {
            "text/plain": [
              "['TopHalf_Classifier_Model.pkl']"
            ]
          },
          "execution_count": 9,
          "metadata": {},
          "output_type": "execute_result"
        }
      ],
      "source": [
        "joblib.dump(pipeline, \"TopHalf_Classifier_Model.pkl\") "
      ]
    },
    {
      "cell_type": "markdown",
      "metadata": {},
      "source": [
        "# SVM3 Training (Q3/Q4)"
      ]
    },
    {
      "cell_type": "markdown",
      "metadata": {},
      "source": [
        "Train Model with selected features and apply hyperparameter tuning"
      ]
    },
    {
      "cell_type": "code",
      "execution_count": 10,
      "metadata": {},
      "outputs": [
        {
          "name": "stdout",
          "output_type": "stream",
          "text": [
            "              precision    recall  f1-score   support\n",
            "\n",
            "           0       0.64      0.65      0.64        57\n",
            "           1       0.64      0.63      0.64        57\n",
            "\n",
            "    accuracy                           0.64       114\n",
            "   macro avg       0.64      0.64      0.64       114\n",
            "weighted avg       0.64      0.64      0.64       114\n",
            "\n",
            "0.6403508771929824\n"
          ]
        }
      ],
      "source": [
        "featuredatatrain=pd.read_csv('Features_bottomhalf_train.csv')\n",
        "x_train=np.asarray(featuredatatrain[selectedheaders[\"SVM3\"]])\n",
        "y_train=np.asarray(featuredatatrain['sentiment'])\n",
        "featuredatatest=pd.read_csv('Features_bottomhalf_test.csv')\n",
        "x_test=np.asarray(featuredatatest[selectedheaders[\"SVM3\"]])\n",
        "y_test=np.asarray(featuredatatest['sentiment'])\n",
        "\n",
        "scaler = MinMaxScaler()\n",
        "scaler.fit(x_train)\n",
        "x_test=scaler.transform(x_test)\n",
        "x_train=scaler.transform(x_train)\n",
        "\n",
        "parameters = {'kernel':['linear', 'rbf','poly'], 'C':[0.1,0.3,0.7,1,2,5,10,50,100,1000],'gamma':['auto','scale',1,0.1]}\n",
        "svc = svm.SVC()\n",
        "\n",
        "classifier = GridSearchCV(svc, parameters)\n",
        "classifier.fit(x_train, y_train)\n",
        "predict=classifier.predict(x_test)\n",
        "print(classification_report(y_test,predict))\n",
        "print(accuracy_score(y_test,predict))"
      ]
    },
    {
      "cell_type": "markdown",
      "metadata": {},
      "source": [
        "Best Model Parameters for these features"
      ]
    },
    {
      "cell_type": "code",
      "execution_count": 11,
      "metadata": {},
      "outputs": [
        {
          "name": "stdout",
          "output_type": "stream",
          "text": [
            "              precision    recall  f1-score   support\n",
            "\n",
            "           0       0.64      0.65      0.64        57\n",
            "           1       0.64      0.63      0.64        57\n",
            "\n",
            "    accuracy                           0.64       114\n",
            "   macro avg       0.64      0.64      0.64       114\n",
            "weighted avg       0.64      0.64      0.64       114\n",
            "\n",
            "0.6403508771929824\n"
          ]
        }
      ],
      "source": [
        "featuredatatrain=pd.read_csv('Features_bottomhalf_train.csv')\n",
        "x_train=np.asarray(featuredatatrain[selectedheaders[\"SVM3\"]])\n",
        "y_train=np.asarray(featuredatatrain['sentiment'])\n",
        "featuredatatest=pd.read_csv('Features_bottomhalf_test.csv')\n",
        "x_test=np.asarray(featuredatatest[selectedheaders[\"SVM3\"]])\n",
        "y_test=np.asarray(featuredatatest['sentiment'])\n",
        "\n",
        "bestparams=classifier.best_params_\n",
        "bestclassifier = svm.SVC(kernel=bestparams['kernel'], gamma=bestparams['gamma'], C=bestparams['C'])\n",
        "pipeline = make_pipeline(MinMaxScaler(),bestclassifier )\n",
        "\n",
        "pipeline.fit(x_train, y_train)\n",
        "predict=pipeline.predict(x_test)\n",
        "print(classification_report(y_test,predict))\n",
        "print(accuracy_score(y_test,predict))"
      ]
    },
    {
      "cell_type": "markdown",
      "metadata": {},
      "source": [
        "Save Model"
      ]
    },
    {
      "cell_type": "code",
      "execution_count": 12,
      "metadata": {},
      "outputs": [
        {
          "data": {
            "text/plain": [
              "['BottomHalf_Classifier_Model.pkl']"
            ]
          },
          "execution_count": 12,
          "metadata": {},
          "output_type": "execute_result"
        }
      ],
      "source": [
        "joblib.dump(pipeline, \"BottomHalf_Classifier_Model.pkl\") "
      ]
    }
  ],
  "metadata": {
    "colab": {
      "provenance": []
    },
    "kernelspec": {
      "display_name": "Python 3",
      "name": "python3"
    },
    "language_info": {
      "codemirror_mode": {
        "name": "ipython",
        "version": 3
      },
      "file_extension": ".py",
      "mimetype": "text/x-python",
      "name": "python",
      "nbconvert_exporter": "python",
      "pygments_lexer": "ipython3",
      "version": "3.11.5"
    }
  },
  "nbformat": 4,
  "nbformat_minor": 0
}
