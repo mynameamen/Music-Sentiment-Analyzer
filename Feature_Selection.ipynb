{
  "cells": [
    {
      "cell_type": "markdown",
      "metadata": {
        "id": "sJNRal_M-lLr"
      },
      "source": [
        "# Package Installations and Imports"
      ]
    },
    {
      "cell_type": "code",
      "execution_count": 1,
      "metadata": {
        "id": "M72ehON6-lj5"
      },
      "outputs": [],
      "source": [
        "import numpy as np\n",
        "import pandas as pd\n",
        "import csv\n",
        "\n",
        "from sklearn.feature_selection import RFECV\n",
        "from sklearn.model_selection import StratifiedKFold\n",
        "from sklearn.preprocessing import MinMaxScaler\n",
        "\n",
        "\n",
        "from sklearn import svm\n"
      ]
    },
    {
      "cell_type": "markdown",
      "metadata": {
        "id": "KT1gCjl9whvf"
      },
      "source": [
        "# Feature Selection"
      ]
    },
    {
      "cell_type": "markdown",
      "metadata": {
        "id": "OgRsHvd7xGLU"
      },
      "source": [
        "Feature Headers"
      ]
    },
    {
      "cell_type": "code",
      "execution_count": 2,
      "metadata": {
        "id": "jp6maudEtJnx"
      },
      "outputs": [],
      "source": [
        "headers=np.array([\"chromaC_mean\", \"chromaC#_mean\", \"chromaD_mean\", \"chromaD#_mean\", \"chromaE_mean\", \"chromaF_mean\", \"chromaF#_mean\", \"chromaG_mean\", \\\n",
        "         \"chromaG#_mean\", \"chromaA_mean\", \"chromaA#_mean\", \"chromaB_mean\", \"chromaC_std\", \"chromaC#_std\", \"chromaD_std\", \"chromaD#_std\", \"chromaE_std\", \\\n",
        "         \"chromaF_std\", \"chromaF#_std\", \"chromaG_std\", \"chromaG#_std\", \"chromaA_std\", \"chromaA#_std\", \"chromaB_std\", \"chromaC_var\", \"chromaC#_var\", \"chromaD_var\", \\\n",
        "         \"chromaD#_var\", \"chromaE_var\", \"chromaF_var\", \"chromaF#_var\", \"chromaG_var\", \"chromaG#_var\", \"chromaA_var\", \"chromaA#_var\", \"chromaB_var\", \"mfcc1_mean\", \\\n",
        "         \"mfcc2_mean\", \"mfcc3_mean\", \"mfcc4_mean\", \"mfcc5_mean\", \"mfcc6_mean\", \"mfcc7_mean\", \"mfcc8_mean\", \"mfcc9_mean\", \"mfcc10_mean\", \"mfcc11_mean\", \"mfcc12_mean\", \\\n",
        "         \"mfcc13_mean\", \"mfcc1_std\", \"mfcc2_std\", \"mfcc3_std\", \"mfcc4_std\", \"mfcc5_std\", \"mfcc6_std\", \"mfcc7_std\", \"mfcc8_std\", \"mfcc9_std\", \"mfcc10_std\", \"mfcc11_std\", \\\n",
        "         \"mfcc12_std\", \"mfcc13_std\", \"mfcc1_var\", \"mfcc2_var\", \"mfcc3_var\", \"mfcc4_var\", \"mfcc5_var\", \"mfcc6_var\", \"mfcc7_var\", \"mfcc8_var\", \"mfcc9_var\", \"mfcc10_var\", \"mfcc11_var\", \\\n",
        "         \"mfcc12_var\", \"mfcc13_var\", \"rms_mean\", \"rms_std\", \"rms_var\", \"zcr_mean\", \"zcr_std\", \"zcr_var\", \"tempo\", \"centroid_mean\", \"centroid_std\", \"centroid_var\", \"bandwidth_mean\", \\\n",
        "         \"bandwidth_std\", \"bandwidth_var\", \"flatness_mean\", \"flatness_std\", \"flatness_var\", \"rolloff_mean\", \"rolloff_std\", \"rolloff_var\", \"tonnetz0_mean\", \"tonnetz1_mean\", \\\n",
        "         \"tonnetz2_mean\", \"tonnetz3_mean\", \"tonnetz4_mean\", \"tonnetz5_mean\", \"tonnetz0_std\", \"tonnetz1_std\", \"tonnetz2_std\", \"tonnetz3_std\", \"tonnetz4_std\", \"tonnetz5_std\", \\\n",
        "         \"tonnetz0_var\", \"tonnetz1_var\", \"tonnetz2_var\", \"tonnetz3_var\", \"tonnetz4_var\", \"tonnetz5_var\", \"tgr0_mean\", \"tgr1_mean\", \"tgr2_mean\", \"tgr3_mean\", \"tgr4_mean\", \"tgr5_mean\",\\\n",
        "         \"tgr6_mean\", \"tgr7_mean\", \"tgr8_mean\", \"tgr9_mean\", \"tgr10_mean\", \"tgr11_mean\", \"tgr12_mean\", \"tgr0_std\", \"tgr1_std\", \"tgr2_std\", \"tgr3_std\", \"tgr4_std\", \"tgr5_std\", \"tgr6_std\",\\\n",
        "         \"tgr7_std\", \"tgr8_std\", \"tgr9_std\", \"tgr10_std\", \"tgr11_std\", \"tgr12_std\", \"tgr0_var\", \"tgr1_var\", \"tgr2_var\", \"tgr3_var\", \"tgr4_var\", \"tgr5_var\", \"tgr6_var\", \"tgr7_var\", \"tgr8_var\", \\\n",
        "         \"tgr9_var\", \"tgr10_var\", \"tgr11_var\", \"tgr12_var\", \"logattacktime\", \"attackstart\", \"attackstop\", \"loudness\", \"danceability\", \"predominantpitch_mean\", \"predominantpitch_std\",\\\n",
        "         \"predominantpitch_var\", \"pitchsalience_mean\", \"pitchsalience_std\", \"pitchsalience_var\", \"complexity_mean\", \"complexity_std\", \"complexity_var\", \"flux_mean\", \"flux_std\", \"flux_var\",\\\n",
        "         \"inharmonicity_mean\", \"inharmonicity_std\", \"inharmonicity_var\", \"tristimulus1_mean\", \"tristimulus2_mean\", \"tristimulus3_mean\", \"tristimulus1_std\",\"tristimulus2_std\",\"tristimulus3_std\",\\\n",
        "         \"tristimulus1_var\", \"tristimulus2_var\", \"tristimulus3_var\", \"oddevenratio_mean\", \"oddevenratio_std\", \"oddevenratio_var\", \"AMBMenergyratio\", \"key\", \"scale\", \"strength\", \"tuningfrequency\"])\n"
      ]
    },
    {
      "cell_type": "markdown",
      "metadata": {
        "id": "SjprYGbL_FcN"
      },
      "source": [
        "Feature selection for Half features Q1&Q2/Q3&Q4"
      ]
    },
    {
      "cell_type": "code",
      "execution_count": 3,
      "metadata": {
        "id": "7ndmPHnop7Eq"
      },
      "outputs": [],
      "source": [
        "featuredata=pd.read_csv('Features_half_train.csv')\n",
        "features=np.asarray(featuredata.drop(columns=['songID','sentiment']))\n",
        "sentiment=np.asarray(featuredata['sentiment'])\n",
        "\n",
        "scaler = MinMaxScaler()\n",
        "scaler.fit(features)\n",
        "features=scaler.transform(features)\n",
        "\n",
        "estimator = svm.SVC(kernel='linear')\n",
        "cv = StratifiedKFold(5)\n",
        "\n",
        "rfecv = RFECV(\n",
        "    estimator=estimator,\n",
        "    step=3,\n",
        "    cv=cv,\n",
        "    scoring=\"accuracy\",\n",
        "    min_features_to_select=40,\n",
        "    n_jobs=2,\n",
        ")\n",
        "rfecv.fit(features, sentiment)\n",
        "selectedheaders1=['songID']+list(headers[rfecv.get_support()])+['sentiment']\n",
        "\n"
      ]
    },
    {
      "cell_type": "markdown",
      "metadata": {
        "id": "QWGzv_nVALOJ"
      },
      "source": [
        "Feature selection for Top Half features Q1/Q2"
      ]
    },
    {
      "cell_type": "code",
      "execution_count": 5,
      "metadata": {
        "id": "bW9Z0e7j8YgJ"
      },
      "outputs": [],
      "source": [
        "featuredata=pd.read_csv('Features_tophalf_train.csv')\n",
        "features=np.asarray(featuredata.drop(columns=['songID','sentiment']))\n",
        "sentiment=np.asarray(featuredata['sentiment'])\n",
        "\n",
        "scaler = MinMaxScaler()\n",
        "scaler.fit(features)\n",
        "features=scaler.transform(features)\n",
        "\n",
        "\n",
        "estimator = svm.SVC(kernel='linear')\n",
        "cv = StratifiedKFold(5)\n",
        "\n",
        "rfecv = RFECV(\n",
        "    estimator=estimator,\n",
        "    step=2,\n",
        "    cv=cv,\n",
        "    scoring=\"accuracy\",\n",
        "    min_features_to_select=50,\n",
        "    n_jobs=2,\n",
        ")\n",
        "rfecv.fit(features, sentiment)\n",
        "selectedheaders2=['songID']+list(headers[rfecv.get_support()])+['sentiment']\n",
        "\n",
        "\n",
        "\n"
      ]
    },
    {
      "cell_type": "markdown",
      "metadata": {
        "id": "kZBdsPisAR30"
      },
      "source": [
        "Feature selection for Bottom Half features Q3/Q4"
      ]
    },
    {
      "cell_type": "code",
      "execution_count": 7,
      "metadata": {
        "id": "8WUn5j-c_8E6"
      },
      "outputs": [],
      "source": [
        "featuredata=pd.read_csv('Features_bottomhalf_train.csv')\n",
        "features=np.asarray(featuredata.drop(columns=['songID','sentiment']))\n",
        "sentiment=np.asarray(featuredata['sentiment'])\n",
        "\n",
        "scaler = MinMaxScaler()\n",
        "scaler.fit(features)\n",
        "features=scaler.transform(features)\n",
        "\n",
        "\n",
        "estimator = svm.SVC(kernel='linear')\n",
        "cv = StratifiedKFold(5)\n",
        "\n",
        "rfecv = RFECV(\n",
        "    estimator=estimator,\n",
        "    step=2,\n",
        "    cv=cv,\n",
        "    scoring=\"accuracy\",\n",
        "    min_features_to_select=40,\n",
        "    n_jobs=2,\n",
        ")\n",
        "rfecv.fit(features, sentiment)\n",
        "selectedheaders3=['songID']+list(headers[rfecv.get_support()])+['sentiment']\n",
        "\n",
        "\n"
      ]
    },
    {
      "cell_type": "code",
      "execution_count": 8,
      "metadata": {},
      "outputs": [],
      "source": [
        "import json\n",
        "featureheaders={'SVM1':selectedheaders1[1:-1],'SVM2':selectedheaders2[1:-1],'SVM3':selectedheaders3[1:-1]}\n",
        "with open('SelectedHeaders.json', 'w') as f:\n",
        "    json.dump(featureheaders, f)"
      ]
    }
  ],
  "metadata": {
    "colab": {
      "provenance": []
    },
    "kernelspec": {
      "display_name": "Python 3",
      "name": "python3"
    },
    "language_info": {
      "codemirror_mode": {
        "name": "ipython",
        "version": 3
      },
      "file_extension": ".py",
      "mimetype": "text/x-python",
      "name": "python",
      "nbconvert_exporter": "python",
      "pygments_lexer": "ipython3",
      "version": "3.11.5"
    }
  },
  "nbformat": 4,
  "nbformat_minor": 0
}
