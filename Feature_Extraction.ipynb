{
  "cells": [
    {
      "cell_type": "markdown",
      "metadata": {
        "id": "IBZ9KjF6w0qd"
      },
      "source": [
        "# Package Installations and Imports"
      ]
    },
    {
      "cell_type": "code",
      "execution_count": 6,
      "metadata": {
        "colab": {
          "base_uri": "https://localhost:8080/"
        },
        "id": "--nYOCplauyY",
        "outputId": "d6a5771e-4e50-4ab8-e869-daa809574b8b"
      },
      "outputs": [
        {
          "name": "stdout",
          "output_type": "stream",
          "text": [
            "Collecting essentia\n",
            "  Downloading essentia-2.1b6.dev1110-cp310-cp310-manylinux_2_17_x86_64.manylinux2014_x86_64.whl (13.7 MB)\n",
            "\u001b[2K     \u001b[90m━━━━━━━━━━━━━━━━━━━━━━━━━━━━━━━━━━━━━━━━\u001b[0m \u001b[32m13.7/13.7 MB\u001b[0m \u001b[31m6.1 MB/s\u001b[0m eta \u001b[36m0:00:00\u001b[0m\n",
            "\u001b[?25hRequirement already satisfied: numpy>=1.8.2 in /usr/local/lib/python3.10/dist-packages (from essentia) (1.23.5)\n",
            "Requirement already satisfied: six in /usr/local/lib/python3.10/dist-packages (from essentia) (1.16.0)\n",
            "Requirement already satisfied: pyyaml in /usr/local/lib/python3.10/dist-packages (from essentia) (6.0.1)\n",
            "Installing collected packages: essentia\n",
            "Successfully installed essentia-2.1b6.dev1110\n"
          ]
        }
      ],
      "source": [
        "!pip install essentia"
      ]
    },
    {
      "cell_type": "code",
      "execution_count": 25,
      "metadata": {
        "id": "JmEZ39y7azkN"
      },
      "outputs": [],
      "source": [
        "import essentia\n",
        "import essentia.standard as es\n",
        "import librosa\n",
        "\n",
        "import numpy as np\n",
        "import pandas as pd\n",
        "import os\n",
        "from IPython.display import clear_output\n",
        "import csv\n",
        "from google.colab import drive\n",
        "\n",
        "from sklearn.model_selection import StratifiedKFold\n",
        "from sklearn.preprocessing import MinMaxScaler\n",
        "\n",
        "from sklearn.model_selection import train_test_split\n",
        "from sklearn import svm\n",
        "from sklearn.metrics import classification_report, accuracy_score"
      ]
    },
    {
      "cell_type": "markdown",
      "metadata": {
        "id": "bhQrKI36wJ3V"
      },
      "source": [
        "# **Feature Extraction**"
      ]
    },
    {
      "cell_type": "markdown",
      "metadata": {
        "id": "4jwtkEZAbFBe"
      },
      "source": [
        "Mounting Drive"
      ]
    },
    {
      "cell_type": "code",
      "execution_count": 26,
      "metadata": {
        "colab": {
          "base_uri": "https://localhost:8080/"
        },
        "id": "0BdfzuUTbM_D",
        "outputId": "67042fe1-6950-4463-c4d6-4f625b4b4b75"
      },
      "outputs": [
        {
          "name": "stdout",
          "output_type": "stream",
          "text": [
            "Drive already mounted at /content/drive; to attempt to forcibly remount, call drive.mount(\"/content/drive\", force_remount=True).\n"
          ]
        }
      ],
      "source": [
        "drive.mount('/content/drive')\n",
        "path='/content/drive/MyDrive/3020 Audio'"
      ]
    },
    {
      "cell_type": "markdown",
      "metadata": {
        "id": "aj2OX0XIBuZs"
      },
      "source": [
        "Feature Extraction Function"
      ]
    },
    {
      "cell_type": "code",
      "execution_count": 27,
      "metadata": {
        "id": "UYFXLNDjsFwc"
      },
      "outputs": [],
      "source": [
        "def extractFeatures(audioPath):\n",
        "  audioSignal, sr = librosa.load(audioPath)\n",
        "  #12x3=36\n",
        "  chroma=librosa.feature.chroma_stft(y=audioSignal, sr=sr)\n",
        "  chromafeat = np.concatenate((np.mean(chroma, axis=1), np.std(chroma, axis=1), np.var(chroma, axis=1)))\n",
        "\n",
        "  #13x3=39\n",
        "  mfcc = librosa.feature.mfcc(sr=sr, y=audioSignal, n_mfcc=13)\n",
        "  mfccfeat = np.concatenate((np.mean(mfcc, axis=1), np.std(mfcc, axis=1), np.var(mfcc, axis=1)))\n",
        "\n",
        "  #3\n",
        "  rms=librosa.feature.rms(y=audioSignal)\n",
        "  rmsfeat = np.concatenate((np.mean(rms, axis=1), np.std(rms, axis=1), np.var(rms, axis=1)))\n",
        "\n",
        "  #3\n",
        "  zcr=librosa.feature.zero_crossing_rate(audioSignal)\n",
        "  zcrfeat = np.concatenate((np.mean(zcr, axis=1), np.std(zcr, axis=1), np.var(zcr, axis=1)))\n",
        "\n",
        "  #1\n",
        "  onsetEnv = librosa.onset.onset_strength(y=audioSignal, sr=sr)\n",
        "  tempo = librosa.feature.tempo(onset_envelope=onsetEnv, sr=sr)\n",
        "\n",
        "  #3\n",
        "  centroid = librosa.feature.spectral_centroid(y=audioSignal, sr=sr)\n",
        "  centroidfeat = np.concatenate((np.mean(centroid, axis=1), np.std(centroid, axis=1), np.var(centroid, axis=1)))\n",
        "\n",
        "  #3\n",
        "  bandwidth = librosa.feature.spectral_bandwidth(y=audioSignal, sr=sr)\n",
        "  bandwidthfeat = np.concatenate((np.mean(bandwidth, axis=1), np.std(bandwidth, axis=1), np.var(bandwidth, axis=1)))\n",
        "\n",
        "  #3\n",
        "  flatness = librosa.feature.spectral_flatness(y=audioSignal)\n",
        "  flatnessfeat = np.concatenate((np.mean(flatness, axis=1), np.std(flatness, axis=1), np.var(flatness, axis=1)))\n",
        "\n",
        "  #3\n",
        "  rolloff = librosa.feature.spectral_rolloff(y=audioSignal,sr=sr)\n",
        "  rollofffeat = np.concatenate((np.mean(rolloff, axis=1), np.std(rolloff, axis=1), np.var(rolloff, axis=1)))\n",
        "\n",
        "  #6x3=18\n",
        "  tonnetz = librosa.feature.tonnetz(y=librosa.effects.harmonic(audioSignal), sr=sr)\n",
        "  tonnetzfeat = np.concatenate((np.mean(tonnetz, axis=1), np.std(tonnetz, axis=1), np.var(tonnetz, axis=1)))\n",
        "\n",
        "  #13x3=39\n",
        "  tempogram = librosa.feature.tempogram(y=audioSignal, sr=sr)\n",
        "  tgr = librosa.feature.tempogram_ratio(tg=tempogram, sr=sr)\n",
        "  tgrfeat = np.concatenate((np.mean(tgr, axis=1), np.std(tgr, axis=1), np.var(tgr, axis=1)))\n",
        "\n",
        "\n",
        "  audioeq = es.EqloudLoader(filename=audioPath, sampleRate=44100)()\n",
        "\n",
        "  #predominant melody\n",
        "  pitchextractor = es.PredominantPitchMelodia(frameSize=2048, hopSize=128)\n",
        "  pitchvalues, pitchconfidence = pitchextractor(audioeq)\n",
        "  #3\n",
        "  pitchfeat = np.concatenate((np.mean(np.asarray([pitchvalues]), axis=1), np.std(np.asarray([pitchvalues]), axis=1), np.var(np.asarray([pitchvalues]), axis=1)))\n",
        "\n",
        "  #AfterMaxToBeforeMaxEnergyRatio\n",
        "  #1\n",
        "  AMBMEnergyratio=es.AfterMaxToBeforeMaxEnergyRatio()(pitchvalues)\n",
        "\n",
        "  audio= es.MonoLoader(filename=audioPath,sampleRate=22050)()\n",
        "\n",
        "  #3 each except inharmonicity which is #3x3=9\n",
        "  spectralfeatures = es.LowLevelSpectralExtractor(frameSize=2048, hopSize=512, sampleRate=22050)(audio)\n",
        "  #pitch_salience\n",
        "  pitchsaliencefeat = np.concatenate((np.mean(np.asarray([spectralfeatures[8]]), axis=1), np.std(np.asarray([spectralfeatures[8]]), axis=1), np.var(np.asarray([spectralfeatures[8]]), axis=1)))\n",
        "  #spectral_complexity\n",
        "  speccomplexfeat = np.concatenate((np.mean(np.asarray([spectralfeatures[12]]), axis=1), np.std(np.asarray([spectralfeatures[12]]), axis=1), np.var(np.asarray([spectralfeatures[12]]), axis=1)))\n",
        "  #spectral_flux\n",
        "  specfluxfeat = np.concatenate((np.mean(np.asarray([spectralfeatures[21]]), axis=1), np.std(np.asarray([spectralfeatures[21]]), axis=1), np.var(np.asarray([spectralfeatures[21]]), axis=1)))\n",
        "  #inharmonicity\n",
        "  inharmonicityfeat = np.concatenate((np.mean(np.asarray([spectralfeatures[26]]), axis=1), np.std(np.asarray([spectralfeatures[26]]), axis=1), np.var(np.asarray([spectralfeatures[26]]), axis=1)))\n",
        "  #tristimulus\n",
        "  tristimulusfeat = np.concatenate((np.mean(spectralfeatures[27], axis=0), np.std(spectralfeatures[27], axis=0), np.var(spectralfeatures[27], axis=0)))\n",
        "  #Odd-to-Even Harmonic Energy Ratio\n",
        "  O2Eharmonicfeat = np.concatenate((np.mean(np.asarray([spectralfeatures[28]]), axis=1), np.std(np.asarray([spectralfeatures[28]]), axis=1), np.var(np.asarray([spectralfeatures[28]]), axis=1)))\n",
        "\n",
        "  key,scale,strength = es.KeyExtractor(frameSize=2048,hopSize=512,sampleRate=22050)(audio)\n",
        "  key=['Ab','A','Bb','B','C','C#','D','Eb','E','F','F#','G'].index(key)\n",
        "\n",
        "  if scale==\"major\":\n",
        "    scale=1\n",
        "  else:\n",
        "    scale =-1\n",
        "\n",
        "  #1\n",
        "  tuningfreq = float(np.mean(es.TuningFrequencyExtractor(frameSize=2048,hopSize=512)(audio)))\n",
        "\n",
        "  #1\n",
        "  loudness=es.Loudness()(audio)\n",
        "  #1\n",
        "  danceability=es.Danceability()(audio)[0]\n",
        "  #3\n",
        "  logAttackT=list(es.LogAttackTime(sampleRate=22050)(audio))\n",
        "\n",
        "  #188 total features\n",
        "  features = np.concatenate((chromafeat, mfccfeat, rmsfeat, zcrfeat, tempo, \\\n",
        "                              centroidfeat, bandwidthfeat, flatnessfeat, rollofffeat,\\\n",
        "                              tonnetzfeat, tgrfeat,  np.array(logAttackT + [loudness,danceability]),\\\n",
        "                              pitchfeat, pitchsaliencefeat, speccomplexfeat, specfluxfeat, \\\n",
        "                              inharmonicityfeat, tristimulusfeat, O2Eharmonicfeat, np.asarray([AMBMEnergyratio, key, scale, strength, tuningfreq]) ))\n",
        "\n",
        "  return features\n"
      ]
    },
    {
      "cell_type": "markdown",
      "metadata": {
        "id": "-eCWYY9hCsBU"
      },
      "source": [
        "Exporting Features to CSV"
      ]
    },
    {
      "cell_type": "code",
      "execution_count": 28,
      "metadata": {
        "id": "QwZCtH6wtc_q"
      },
      "outputs": [],
      "source": [
        "def export(features,name):\n",
        "  path = '/content/'+name+'.csv'\n",
        "  with open(path, 'w') as f:\n",
        "\n",
        "      # using csv.writer method from CSV package\n",
        "      write = csv.writer(f)\n",
        "\n",
        "      write.writerow(headers)\n",
        "      write.writerows(features)"
      ]
    },
    {
      "cell_type": "markdown",
      "metadata": {
        "id": "PAwZKo8scMUN"
      },
      "source": [
        "Headers"
      ]
    },
    {
      "cell_type": "code",
      "execution_count": 29,
      "metadata": {
        "id": "BpWQsKDqcJqn"
      },
      "outputs": [],
      "source": [
        "headers=[\"songID\", \"chromaC_mean\", \"chromaC#_mean\", \"chromaD_mean\", \"chromaD#_mean\", \"chromaE_mean\", \"chromaF_mean\", \"chromaF#_mean\", \"chromaG_mean\", \\\n",
        "         \"chromaG#_mean\", \"chromaA_mean\", \"chromaA#_mean\", \"chromaB_mean\", \"chromaC_std\", \"chromaC#_std\", \"chromaD_std\", \"chromaD#_std\", \"chromaE_std\", \\\n",
        "         \"chromaF_std\", \"chromaF#_std\", \"chromaG_std\", \"chromaG#_std\", \"chromaA_std\", \"chromaA#_std\", \"chromaB_std\", \"chromaC_var\", \"chromaC#_var\", \"chromaD_var\", \\\n",
        "         \"chromaD#_var\", \"chromaE_var\", \"chromaF_var\", \"chromaF#_var\", \"chromaG_var\", \"chromaG#_var\", \"chromaA_var\", \"chromaA#_var\", \"chromaB_var\", \"mfcc1_mean\", \\\n",
        "         \"mfcc2_mean\", \"mfcc3_mean\", \"mfcc4_mean\", \"mfcc5_mean\", \"mfcc6_mean\", \"mfcc7_mean\", \"mfcc8_mean\", \"mfcc9_mean\", \"mfcc10_mean\", \"mfcc11_mean\", \"mfcc12_mean\", \\\n",
        "         \"mfcc13_mean\", \"mfcc1_std\", \"mfcc2_std\", \"mfcc3_std\", \"mfcc4_std\", \"mfcc5_std\", \"mfcc6_std\", \"mfcc7_std\", \"mfcc8_std\", \"mfcc9_std\", \"mfcc10_std\", \"mfcc11_std\", \\\n",
        "         \"mfcc12_std\", \"mfcc13_std\", \"mfcc1_var\", \"mfcc2_var\", \"mfcc3_var\", \"mfcc4_var\", \"mfcc5_var\", \"mfcc6_var\", \"mfcc7_var\", \"mfcc8_var\", \"mfcc9_var\", \"mfcc10_var\", \"mfcc11_var\", \\\n",
        "         \"mfcc12_var\", \"mfcc13_var\", \"rms_mean\", \"rms_std\", \"rms_var\", \"zcr_mean\", \"zcr_std\", \"zcr_var\", \"tempo\", \"centroid_mean\", \"centroid_std\", \"centroid_var\", \"bandwidth_mean\", \\\n",
        "         \"bandwidth_std\", \"bandwidth_var\", \"flatness_mean\", \"flatness_std\", \"flatness_var\", \"rolloff_mean\", \"rolloff_std\", \"rolloff_var\", \"tonnetz0_mean\", \"tonnetz1_mean\", \\\n",
        "         \"tonnetz2_mean\", \"tonnetz3_mean\", \"tonnetz4_mean\", \"tonnetz5_mean\", \"tonnetz0_std\", \"tonnetz1_std\", \"tonnetz2_std\", \"tonnetz3_std\", \"tonnetz4_std\", \"tonnetz5_std\", \\\n",
        "         \"tonnetz0_var\", \"tonnetz1_var\", \"tonnetz2_var\", \"tonnetz3_var\", \"tonnetz4_var\", \"tonnetz5_var\", \"tgr0_mean\", \"tgr1_mean\", \"tgr2_mean\", \"tgr3_mean\", \"tgr4_mean\", \"tgr5_mean\",\\\n",
        "         \"tgr6_mean\", \"tgr7_mean\", \"tgr8_mean\", \"tgr9_mean\", \"tgr10_mean\", \"tgr11_mean\", \"tgr12_mean\", \"tgr0_std\", \"tgr1_std\", \"tgr2_std\", \"tgr3_std\", \"tgr4_std\", \"tgr5_std\", \"tgr6_std\",\\\n",
        "         \"tgr7_std\", \"tgr8_std\", \"tgr9_std\", \"tgr10_std\", \"tgr11_std\", \"tgr12_std\", \"tgr0_var\", \"tgr1_var\", \"tgr2_var\", \"tgr3_var\", \"tgr4_var\", \"tgr5_var\", \"tgr6_var\", \"tgr7_var\", \"tgr8_var\", \\\n",
        "         \"tgr9_var\", \"tgr10_var\", \"tgr11_var\", \"tgr12_var\", \"logattacktime\", \"attackstart\", \"attackstop\", \"loudness\", \"danceability\", \"predominantpitch_mean\", \"predominantpitch_std\",\\\n",
        "         \"predominantpitch_var\", \"pitchsalience_mean\", \"pitchsalience_std\", \"pitchsalience_var\", \"complexity_mean\", \"complexity_std\", \"complexity_var\", \"flux_mean\", \"flux_std\", \"flux_var\",\\\n",
        "         \"inharmonicity_mean\", \"inharmonicity_std\", \"inharmonicity_var\", \"tristimulus1_mean\", \"tristimulus2_mean\", \"tristimulus3_mean\", \"tristimulus1_std\",\"tristimulus2_std\",\"tristimulus3_std\",\\\n",
        "         \"tristimulus1_var\", \"tristimulus2_var\", \"tristimulus3_var\", \"oddevenratio_mean\", \"oddevenratio_std\", \"oddevenratio_var\", \"AMBMenergyratio\", \"key\", \"scale\", \"strength\", \"tuningfrequency\",\\\n",
        "         \"sentiment\"]"
      ]
    },
    {
      "cell_type": "markdown",
      "metadata": {
        "id": "hmDs0PPrClg6"
      },
      "source": [
        "Extracting Training Features"
      ]
    },
    {
      "cell_type": "code",
      "execution_count": 30,
      "metadata": {
        "colab": {
          "base_uri": "https://localhost:8080/"
        },
        "id": "9XRdoN2UnyIz",
        "outputId": "98e9ecaa-3c0e-44b4-c612-266082fd45ac"
      },
      "outputs": [
        {
          "name": "stdout",
          "output_type": "stream",
          "text": [
            "Train Extraction\n",
            "Q4:  168 /225\n",
            "93.7 % Finished\n"
          ]
        }
      ],
      "source": [
        "trainfeatures=[[],[],[],[]]\n",
        "for k in range(1,5):\n",
        "  path='/content/drive/MyDrive/3020 Audio/Train/Q'+str(k)\n",
        "  i=0\n",
        "  for filename in os.scandir(path):\n",
        "      if filename.is_file():\n",
        "        trainfeatures[k-1].append([filename.name[:-4]] + list(extractFeatures(filename.path)) + [k])\n",
        "        i+=1\n",
        "        clear_output()\n",
        "        print(\"Train Extraction\")\n",
        "        print(\"Q\"+str(k)+\": \",i,\"/225\")\n",
        "        done=round(((k-1)*168+i)/6.72,1)\n",
        "        print(done,\"% Finished\")\n",
        "\n",
        "\n",
        "export(trainfeatures[0]+trainfeatures[1]+trainfeatures[2]+trainfeatures[3],\"Features_half_train\")\n",
        "export(trainfeatures[0]+trainfeatures[1],\"Features_tophalf_train\")\n",
        "export(trainfeatures[2]+trainfeatures[3],\"Features_bottomhalf_train\")"
      ]
    },
    {
      "cell_type": "markdown",
      "metadata": {
        "id": "AsOWxdITcS8V"
      },
      "source": [
        "Extracting Testing Features"
      ]
    },
    {
      "cell_type": "code",
      "execution_count": 38,
      "metadata": {
        "colab": {
          "base_uri": "https://localhost:8080/"
        },
        "id": "VLpwDbIwcWG1",
        "outputId": "dc05ae48-949b-4716-c654-405ddf0e33c9"
      },
      "outputs": [
        {
          "name": "stdout",
          "output_type": "stream",
          "text": [
            "Test Extraction\n",
            "Q4:  57 /225\n",
            "100.0 % Finished\n"
          ]
        }
      ],
      "source": [
        "testfeatures=[[],[],[],[]]\n",
        "for k in range(1,5):\n",
        "  path='/content/drive/MyDrive/3020 Audio/Test/Q'+str(k)\n",
        "  i=0\n",
        "  for filename in os.scandir(path):\n",
        "      if filename.is_file():\n",
        "        testfeatures[k-1].append([filename.name[:-4]] + list(extractFeatures(filename.path)) + [k])\n",
        "        i+=1\n",
        "        clear_output()\n",
        "        print(\"Test Extraction\")\n",
        "        print(\"Q\"+str(k)+\": \",i,\"/57\")\n",
        "        done=round(((k-1)*57+i)/2.28,1)\n",
        "        print(done,\"% Finished\")\n",
        "\n",
        "\n",
        "export(testfeatures[0]+testfeatures[1]+testfeatures[2]+testfeatures[3],\"Features_half_test\")\n",
        "export(testfeatures[0]+testfeatures[1],\"Features_tophalf_test\")\n",
        "export(testfeatures[2]+testfeatures[3],\"Features_bottomhalf_test\")"
      ]
    }
  ],
  "metadata": {
    "colab": {
      "provenance": []
    },
    "kernelspec": {
      "display_name": "Python 3",
      "name": "python3"
    },
    "language_info": {
      "name": "python",
      "version": "3.11.5"
    }
  },
  "nbformat": 4,
  "nbformat_minor": 0
}
